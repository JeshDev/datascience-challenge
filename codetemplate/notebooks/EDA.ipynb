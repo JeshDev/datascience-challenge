{
 "cells": [
  {
   "cell_type": "code",
   "execution_count": 1,
   "id": "53083fed",
   "metadata": {},
   "outputs": [],
   "source": [
    "%store -r cust_lead\n",
    "\n",
    "import pandas as pd\n",
    "import matplotlib.pyplot as plt\n",
    "import seaborn as sns"
   ]
  },
  {
   "cell_type": "code",
   "execution_count": 2,
   "id": "a2a4eea4",
   "metadata": {},
   "outputs": [
    {
     "data": {
      "image/png": "[encoded data removed]",
      "text/plain": [
       "<Figure size 432x288 with 1 Axes>"
      ]
     },
     "metadata": {
      "needs_background": "light"
     },
     "output_type": "display_data"
    }
   ],
   "source": [
    "g = sns.countplot(x = \"q_OpeningDays_cat\", hue = \"b_gekauft_gesamt\", data = cust_lead)\n",
    "g.set_yscale(\"log\")"
   ]
  },
  {
   "cell_type": "markdown",
   "id": "aceaccca",
   "metadata": {},
   "source": [
    "#### The values 0, 4 and 5 make impact on the purchase. I am assuming the 4, 5 as Wed and Thu, but not sure how to interpret 0"
   ]
  },
  {
   "cell_type": "code",
   "execution_count": 3,
   "id": "2880fa80",
   "metadata": {},
   "outputs": [
    {
     "data": {
      "text/plain": [
       "count    3772.000000\n",
       "mean       18.618704\n",
       "std        13.041684\n",
       "min         0.000000\n",
       "25%         0.000000\n",
       "50%        21.000000\n",
       "75%        28.000000\n",
       "max        68.000000\n",
       "Name: q_OpeningHours, dtype: float64"
      ]
     },
     "execution_count": 3,
     "metadata": {},
     "output_type": "execute_result"
    }
   ],
   "source": [
    "# Opening Hours\n",
    "\n",
    "cust_lead['q_OpeningHours'].describe()"
   ]
  },
  {
   "cell_type": "code",
   "execution_count": 4,
   "id": "e4460c39",
   "metadata": {},
   "outputs": [
    {
     "data": {
      "text/html": [
       "<div>\n",
       "<style scoped>\n",
       "    .dataframe tbody tr th:only-of-type {\n",
       "        vertical-align: middle;\n",
       "    }\n",
       "\n",
       "    .dataframe tbody tr th {\n",
       "        vertical-align: top;\n",
       "    }\n",
       "\n",
       "    .dataframe thead th {\n",
       "        text-align: right;\n",
       "    }\n",
       "</style>\n",
       "<table border=\"1\" class=\"dataframe\">\n",
       "  <thead>\n",
       "    <tr style=\"text-align: right;\">\n",
       "      <th></th>\n",
       "      <th>q_OpeningDays</th>\n",
       "      <th>q_OpeningHours</th>\n",
       "    </tr>\n",
       "  </thead>\n",
       "  <tbody>\n",
       "    <tr>\n",
       "      <th>count</th>\n",
       "      <td>57.000000</td>\n",
       "      <td>57.000000</td>\n",
       "    </tr>\n",
       "    <tr>\n",
       "      <th>mean</th>\n",
       "      <td>2.982456</td>\n",
       "      <td>18.842105</td>\n",
       "    </tr>\n",
       "    <tr>\n",
       "      <th>std</th>\n",
       "      <td>2.125451</td>\n",
       "      <td>15.060046</td>\n",
       "    </tr>\n",
       "    <tr>\n",
       "      <th>min</th>\n",
       "      <td>0.000000</td>\n",
       "      <td>0.000000</td>\n",
       "    </tr>\n",
       "    <tr>\n",
       "      <th>25%</th>\n",
       "      <td>0.000000</td>\n",
       "      <td>0.000000</td>\n",
       "    </tr>\n",
       "    <tr>\n",
       "      <th>50%</th>\n",
       "      <td>4.000000</td>\n",
       "      <td>20.500000</td>\n",
       "    </tr>\n",
       "    <tr>\n",
       "      <th>75%</th>\n",
       "      <td>5.000000</td>\n",
       "      <td>32.000000</td>\n",
       "    </tr>\n",
       "    <tr>\n",
       "      <th>max</th>\n",
       "      <td>5.000000</td>\n",
       "      <td>45.000000</td>\n",
       "    </tr>\n",
       "  </tbody>\n",
       "</table>\n",
       "</div>"
      ],
      "text/plain": [
       "       q_OpeningDays  q_OpeningHours\n",
       "count      57.000000       57.000000\n",
       "mean        2.982456       18.842105\n",
       "std         2.125451       15.060046\n",
       "min         0.000000        0.000000\n",
       "25%         0.000000        0.000000\n",
       "50%         4.000000       20.500000\n",
       "75%         5.000000       32.000000\n",
       "max         5.000000       45.000000"
      ]
     },
     "execution_count": 4,
     "metadata": {},
     "output_type": "execute_result"
    }
   ],
   "source": [
    "cust_lead[cust_lead.b_gekauft_gesamt == 1].iloc[:,11:14].describe()"
   ]
  },
  {
   "cell_type": "code",
   "execution_count": 5,
   "id": "bde07d9f",
   "metadata": {},
   "outputs": [
    {
     "data": {
      "text/plain": [
       "count    3772.000000\n",
       "mean        2.242259\n",
       "std         0.153146\n",
       "min         2.000000\n",
       "25%         2.100000\n",
       "50%         2.200000\n",
       "75%         2.400000\n",
       "max         2.900000\n",
       "Name: q_2017 Average Household Size, dtype: float64"
      ]
     },
     "execution_count": 5,
     "metadata": {},
     "output_type": "execute_result"
    }
   ],
   "source": [
    "# Average Household Size\n",
    "\n",
    "cust_lead['q_2017 Average Household Size'].describe()"
   ]
  },
  {
   "cell_type": "code",
   "execution_count": 6,
   "id": "ef83d74d",
   "metadata": {},
   "outputs": [
    {
     "data": {
      "text/plain": [
       "count    3.772000e+03\n",
       "mean     3.872178e+05\n",
       "std      4.115536e+05\n",
       "min      1.718000e+03\n",
       "25%      7.569700e+04\n",
       "50%      1.537120e+05\n",
       "75%      9.647610e+05\n",
       "max      1.113261e+06\n",
       "Name: q_2017 Total Households, dtype: float64"
      ]
     },
     "execution_count": 6,
     "metadata": {},
     "output_type": "execute_result"
    }
   ],
   "source": [
    "# Total Households\n",
    "\n",
    "cust_lead['q_2017 Total Households'].describe()"
   ]
  }
 ],
 "metadata": {
  "kernelspec": {
   "display_name": "PyCharm (DataScienceCodingChallenge)",
   "language": "python",
   "name": "pycharm-577223db"
  },
  "language_info": {
   "codemirror_mode": {
    "name": "ipython",
    "version": 3
   },
   "file_extension": ".py",
   "mimetype": "text/x-python",
   "name": "python",
   "nbconvert_exporter": "python",
   "pygments_lexer": "ipython3",
   "version": "3.9.6"
  }
 },
 "nbformat": 4,
 "nbformat_minor": 5
}
